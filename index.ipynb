{
 "cells": [
  {
   "cell_type": "markdown",
   "metadata": {},
   "source": [
    "# Modeling Your Data - Lab\n",
    "\n",
    "## Introduction \n",
    "\n",
    "In this lab you'll perform a full linear regression on the data. You'll implement the process demonstrated in the previous lesson, taking a stepwise approach to analyze and improve the model along the way.\n",
    "\n",
    "## Objectives\n",
    "You will be able to:\n",
    "\n",
    "* Remove predictors with p-values too high and refit the model\n",
    "* Examine and interpret the model results\n",
    "* Split data into training and testing sets\n",
    "* Fit a regression model to the data set using statsmodel library\n",
    "\n",
    "\n",
    "## Build an Initial Regression Model\n",
    "\n",
    "To start, perform a train-test split and create an initial regression model to model the `list_price` using all of your available features.\n",
    "\n",
    "> **Note:** In order to write the model you'll have to do some tedious manipulation of your column names. Statsmodels will not allow you to have spaces, apostrophe or arithmetic symbols (+) in your column names. Preview them and refine them as you go.  \n",
    "**If you receive an error such as \"PatsyError: error tokenizing input (maybe an unclosed string?)\" then you need to further preprocess your column names.**"
   ]
  },
  {
   "cell_type": "code",
   "execution_count": 2,
   "metadata": {},
   "outputs": [],
   "source": [
    "import pandas as pd\n",
    "df = pd.read_csv(\"Lego_dataset_cleaned.csv\")"
   ]
  },
  {
   "cell_type": "code",
   "execution_count": 21,
   "metadata": {
    "scrolled": true
   },
   "outputs": [
    {
     "name": "stdout",
     "output_type": "stream",
     "text": [
      "piece_count\n",
      "list_price\n",
      "num_reviews\n",
      "play_star_rating\n",
      "star_rating\n",
      "val_star_rating\n",
      "ages_10+\n",
      "ages_10-14\n",
      "ages_10-16\n",
      "ages_10-21\n",
      "ages_11-16\n",
      "ages_12+\n",
      "ages_12-16\n",
      "ages_14+\n",
      "ages_16+\n",
      "ages_1½-3\n",
      "ages_1½-5\n",
      "ages_2-5\n",
      "ages_4+\n",
      "ages_4-7\n",
      "ages_4-99\n",
      "ages_5+\n",
      "ages_5-12\n",
      "ages_5-8\n",
      "ages_6+\n",
      "ages_6-12\n",
      "ages_6-14\n",
      "ages_7+\n",
      "ages_7-12\n",
      "ages_7-14\n",
      "ages_8+\n",
      "ages_8-12\n",
      "ages_8-14\n",
      "ages_9+\n",
      "ages_9-12\n",
      "ages_9-14\n",
      "ages_9-16\n",
      "theme_name_Angry Birds™\n",
      "theme_name_Architecture\n",
      "theme_name_BOOST\n",
      "theme_name_Blue's Helicopter Pursuit\n",
      "theme_name_BrickHeadz\n",
      "theme_name_Carnotaurus Gyrosphere Escape\n",
      "theme_name_City\n",
      "theme_name_Classic\n",
      "theme_name_Creator 3-in-1\n",
      "theme_name_Creator Expert\n",
      "theme_name_DC Comics™ Super Heroes\n",
      "theme_name_DC Super Hero Girls\n",
      "theme_name_DIMENSIONS™\n",
      "theme_name_DUPLO®\n",
      "theme_name_Dilophosaurus Outpost Attack\n",
      "theme_name_Disney™\n",
      "theme_name_Elves\n",
      "theme_name_Friends\n",
      "theme_name_Ghostbusters™\n",
      "theme_name_Ideas\n",
      "theme_name_Indoraptor Rampage at Lockwood Estate\n",
      "theme_name_Juniors\n",
      "theme_name_Jurassic Park Velociraptor Chase\n",
      "theme_name_MINDSTORMS®\n",
      "theme_name_Marvel Super Heroes\n",
      "theme_name_Minecraft™\n",
      "theme_name_Minifigures\n",
      "theme_name_NEXO KNIGHTS™\n",
      "theme_name_NINJAGO®\n",
      "theme_name_Power Functions\n",
      "theme_name_Pteranodon Chase\n",
      "theme_name_SERIOUS PLAY®\n",
      "theme_name_Speed Champions\n",
      "theme_name_Star Wars™\n",
      "theme_name_Stygimoloch Breakout\n",
      "theme_name_T. rex Transport\n",
      "theme_name_THE LEGO® BATMAN MOVIE\n",
      "theme_name_THE LEGO® NINJAGO® MOVIE™\n",
      "theme_name_Technic\n",
      "country_AT\n",
      "country_AU\n",
      "country_BE\n",
      "country_CA\n",
      "country_CH\n",
      "country_CZ\n",
      "country_DE\n",
      "country_DN\n",
      "country_ES\n",
      "country_FI\n",
      "country_FR\n",
      "country_GB\n",
      "country_IE\n",
      "country_IT\n",
      "country_LU\n",
      "country_NL\n",
      "country_NO\n",
      "country_NZ\n",
      "country_PL\n",
      "country_PT\n",
      "country_US\n",
      "review_difficulty_Average\n",
      "review_difficulty_Challenging\n",
      "review_difficulty_Easy\n",
      "review_difficulty_Very Challenging\n",
      "review_difficulty_Very Easy\n",
      "review_difficulty_unknown\n"
     ]
    }
   ],
   "source": [
    "for x in df.columns:\n",
    "    print(x)"
   ]
  },
  {
   "cell_type": "code",
   "execution_count": 35,
   "metadata": {},
   "outputs": [],
   "source": [
    "df.columns = [\"piece_count\", \"list_price\", \"num_reviews\", \"play_star_rating\", \"star_rating\", \"val_star_rating\", \"ages_10\", \"ages_10_14\", \"ages_10_16\", \"ages_10_21\", \"ages_11_16\", \"ages_12\", \"ages_12_16\", \"ages_14\", \"ages_16\", \"ages_half_3\", \"ages_1half_5\", \"ages_2_5\", \"ages_4\", \"ages_4_7\", \"ages_4_99\", \"ages_5\", \"ages_5_12\", \"ages_5_8\", \"ages_6\", \"ages_6_12\", \"ages_6_14\", \"ages_7\", \"ages_7_12\", \"ages_7_14\", \"ages_8\", \"ages_8_12\", \"ages_8_14\", \"ages_9\", \"ages_9_12\", \"ages_9_14\", \"ages_9_16\", \"theme_name_Angry_Birds\", \"theme_name_Architecture\", \"theme_name_BOOST\", \"theme_name_Blues_Helicopter_Pursuit\", \"theme_name_BrickHeadz\", \"theme_name_Carnotaurus_Gyrosphere_Escape\", \"theme_name_City\", \"theme_name_Classic\", \"theme_name_Creator_3_in_1\", \"theme_name_Creator_Expert\", \"theme_name_DC_Comics_Super_Heroes\", \"theme_name_DC_Super_Hero_Girls\", \"theme_name_DIMENSIONS\", \"theme_name_DUPLO\", \"theme_name_Dilophosaurus_Outpost_Attack\", \"theme_name_Disney\", \"theme_name_Elves\", \"theme_name_Friends\", \"theme_name_Ghostbusters\", \"theme_name_Ideas\", \"theme_name_Indoraptor_Rampage_at_Lockwood_Estate\", \"theme_name_Juniors\", \"theme_name_Jurassic_Park_Velociraptor_Chase\", \"theme_name_MINDSTORMS\", \"theme_name_Marvel_Super_Heroes\", \"theme_name_Minecraft\", \"theme_name_Minifigures\", \"theme_name_NEXO_KNIGHTS\", \"theme_name_NINJAGO\", \"theme_name_Power_Functions\", \"theme_name_Pteranodon_Chase\", \"theme_name_SERIOUS_PLAY\", \"theme_name_Speed_Champions\", \"theme_name_Star_Wars\", \"theme_name_Stygimoloch_Breakout\", \"theme_name_T_rex_Transport\", \"theme_name_THE_LEGO_BATMAN_MOVIE\", \"theme_name_THE_LEGO_NINJAGO_MOVIE\", \"theme_name_Technic\", \"country_AT\", \"country_AU\", \"country_BE\", \"country_CA\", \"country_CH\", \"country_CZ\", \"country_DE\", \"country_DN\", \"country_ES\", \"country_FI\", \"country_FR\", \"country_GB\", \"country_IE\", \"country_IT\", \"country_LU\", \"country_NL\", \"country_NO\", \"country_NZ\", \"country_PL\", \"country_PT\", \"country_US\", \"review_difficulty_Average\", \"review_difficulty_Challenging\", \"review_difficulty_Easy\", \"review_difficulty_Very_Challenging\", \"review_difficulty_Very_Easy\", \"review_difficulty_unknown\"]"
   ]
  },
  {
   "cell_type": "code",
   "execution_count": 36,
   "metadata": {},
   "outputs": [],
   "source": [
    "from sklearn.model_selection import train_test_split\n",
    "X = df[[x for x in df.columns if x != \"list_price\"]]\n",
    "y = df[\"list_price\"]\n",
    "X_train, X_test, y_train, y_test = train_test_split(X, y, test_size=.2)"
   ]
  },
  {
   "cell_type": "code",
   "execution_count": 37,
   "metadata": {
    "scrolled": true
   },
   "outputs": [
    {
     "name": "stderr",
     "output_type": "stream",
     "text": [
      "/opt/conda/envs/learn-env/lib/python3.6/site-packages/ipykernel_launcher.py:4: SettingWithCopyWarning: \n",
      "A value is trying to be set on a copy of a slice from a DataFrame.\n",
      "Try using .loc[row_indexer,col_indexer] = value instead\n",
      "\n",
      "See the caveats in the documentation: http://pandas.pydata.org/pandas-docs/stable/indexing.html#indexing-view-versus-copy\n",
      "  after removing the cwd from sys.path.\n"
     ]
    }
   ],
   "source": [
    "from statsmodels.formula.api import ols\n",
    "formula = \"list_price~%s\" % (\"+\".join(X_train.columns))\n",
    "#print(formula)\n",
    "X_train[\"list_price\"] = y_train\n",
    "model = ols(formula=formula, data=X_train).fit()"
   ]
  },
  {
   "cell_type": "markdown",
   "metadata": {},
   "source": [
    "## Remove the Uninfluential Features\n",
    "\n",
    "Based on the initial model, remove those features which do not appear to be statistically relevant and rerun the model."
   ]
  },
  {
   "cell_type": "code",
   "execution_count": null,
   "metadata": {},
   "outputs": [],
   "source": [
    "#Your code here"
   ]
  },
  {
   "cell_type": "markdown",
   "metadata": {},
   "source": [
    "> **Comment:** You should see that the model performance is identical. Additionally, observe that there are further features which have been identified as unimpactful. Continue to refine the model accordingly."
   ]
  },
  {
   "cell_type": "code",
   "execution_count": null,
   "metadata": {},
   "outputs": [],
   "source": [
    "#Your code here"
   ]
  },
  {
   "cell_type": "markdown",
   "metadata": {},
   "source": [
    "## Investigate Multicollinearity\n",
    "\n",
    "There are still a lot of features in the current model! Chances are there are some strong multicollinearity issues. Begin to investigate the extend of this problem."
   ]
  },
  {
   "cell_type": "code",
   "execution_count": null,
   "metadata": {},
   "outputs": [],
   "source": [
    "#Your code here"
   ]
  },
  {
   "cell_type": "markdown",
   "metadata": {},
   "source": [
    "## Perform Another Round of Feature Selection\n",
    "\n",
    "Once again, subset your features based on your findings above. Then rerun the model once again."
   ]
  },
  {
   "cell_type": "code",
   "execution_count": null,
   "metadata": {},
   "outputs": [],
   "source": [
    "#Your code here"
   ]
  },
  {
   "cell_type": "markdown",
   "metadata": {},
   "source": [
    "## Check the Normality Assumption\n",
    "\n",
    "Check whether the normality assumption holds for your model."
   ]
  },
  {
   "cell_type": "code",
   "execution_count": null,
   "metadata": {},
   "outputs": [],
   "source": [
    "# Your code here"
   ]
  },
  {
   "cell_type": "markdown",
   "metadata": {},
   "source": [
    "## Check Homoscedasticity Assumption\n",
    "\n",
    "Check whether the model's errors are indeed homoscedastic or if they violate this principle and display heteroscedasticity."
   ]
  },
  {
   "cell_type": "code",
   "execution_count": null,
   "metadata": {},
   "outputs": [],
   "source": [
    "#Your code here"
   ]
  },
  {
   "cell_type": "markdown",
   "metadata": {},
   "source": [
    "> **Comment:** This displays a fairly pronounced 'funnel' shape: errors appear to increase as the list_price increases. This doesn't bode well for our model. Subsetting the data to remove outliers and confiding the model to this restricted domain may be necessary. A log transformation or something equivalent may also be appropriate."
   ]
  },
  {
   "cell_type": "markdown",
   "metadata": {},
   "source": [
    "## Make Additional Refinements\n",
    "\n",
    "From here, make additional refinements to your model based on the above analysis. As you progress, continue to go back and check the assumptions for the updated model. Be sure to attempt at least 2 additional model refinements."
   ]
  },
  {
   "cell_type": "markdown",
   "metadata": {},
   "source": [
    "> **Comment:** Based on the above plots, it seems as though outliers are having a substantial impact on the model. As such, removing outliers may be appropriate. Investigating the impact of a log transformation is also worthwhile."
   ]
  },
  {
   "cell_type": "code",
   "execution_count": null,
   "metadata": {},
   "outputs": [],
   "source": [
    "#Your code here"
   ]
  },
  {
   "cell_type": "markdown",
   "metadata": {},
   "source": [
    "## Summary"
   ]
  },
  {
   "cell_type": "markdown",
   "metadata": {},
   "source": [
    "Well done! As you can see, regression can be a challenging task that requires you to make decisions along the way, try alternative approaches and make ongoing refinements. These choices depend on the context and specific use cases. "
   ]
  }
 ],
 "metadata": {
  "kernelspec": {
   "display_name": "Python 3",
   "language": "python",
   "name": "python3"
  },
  "language_info": {
   "codemirror_mode": {
    "name": "ipython",
    "version": 3
   },
   "file_extension": ".py",
   "mimetype": "text/x-python",
   "name": "python",
   "nbconvert_exporter": "python",
   "pygments_lexer": "ipython3",
   "version": "3.6.6"
  }
 },
 "nbformat": 4,
 "nbformat_minor": 2
}
